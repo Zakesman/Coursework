{
 "cells": [
  {
   "cell_type": "markdown",
   "metadata": {},
   "source": [
    "# Final Project\n",
    "\n",
    "## Predict whether a mammogram mass is benign or malignant\n",
    "\n",
    "We'll be using the \"mammographic masses\" public dataset from the UCI repository (source: https://archive.ics.uci.edu/ml/datasets/Mammographic+Mass)\n",
    "\n",
    "This data contains 961 instances of masses detected in mammograms, and contains the following attributes:\n",
    "\n",
    "\n",
    "   1. BI-RADS assessment: 1 to 5 (ordinal)  \n",
    "   2. Age: patient's age in years (integer)\n",
    "   3. Shape: mass shape: round=1 oval=2 lobular=3 irregular=4 (nominal)\n",
    "   4. Margin: mass margin: circumscribed=1 microlobulated=2 obscured=3 ill-defined=4 spiculated=5 (nominal)\n",
    "   5. Density: mass density high=1 iso=2 low=3 fat-containing=4 (ordinal)\n",
    "   6. Severity: benign=0 or malignant=1 (binominal)\n",
    "   \n",
    "BI-RADS is an assesment of how confident the severity classification is; it is not a \"predictive\" attribute and so we will discard it. The age, shape, margin, and density attributes are the features that we will build our model with, and \"severity\" is the classification we will attempt to predict based on those attributes.\n",
    "\n",
    "Although \"shape\" and \"margin\" are nominal data types, which sklearn typically doesn't deal with well, they are close enough to ordinal that we shouldn't just discard them. The \"shape\" for example is ordered increasingly from round to irregular.\n",
    "\n",
    "A lot of unnecessary anguish and surgery arises from false positives arising from mammogram results. If we can build a better way to interpret them through supervised machine learning, it could improve a lot of lives.\n",
    "\n",
    "## Your assignment\n",
    "\n",
    "Apply several different supervised machine learning techniques to this data set, and see which one yields the highest accuracy as measured with K-Fold cross validation (K=10). Apply:\n",
    "\n",
    "* Decision tree\n",
    "* Random forest\n",
    "* KNN\n",
    "* Naive Bayes\n",
    "* SVM\n",
    "* Logistic Regression\n",
    "* And, as a bonus challenge, a neural network using Keras.\n",
    "\n",
    "The data needs to be cleaned; many rows contain missing data, and there may be erroneous data identifiable as outliers as well.\n",
    "\n",
    "Remember some techniques such as SVM also require the input data to be normalized first.\n",
    "\n",
    "Many techniques also have \"hyperparameters\" that need to be tuned. Once you identify a promising approach, see if you can make it even better by tuning its hyperparameters.\n",
    "\n",
    "I was able to achieve over 80% accuracy - can you beat that?\n",
    "\n",
    "Below I've set up an outline of a notebook for this project, with some guidance and hints. If you're up for a real challenge, try doing this project from scratch in a new, clean notebook!\n"
   ]
  },
  {
   "cell_type": "markdown",
   "metadata": {},
   "source": [
    "## Let's begin: prepare your data\n",
    "\n",
    "We import the mammographic data stored in a text file. There are some missing values in there, so we replace the NaN while importing instead of doing it afterwards. We also add appropriate column names for the data to aid our analysis of it."
   ]
  },
  {
   "cell_type": "code",
   "execution_count": 1,
   "metadata": {
    "scrolled": true
   },
   "outputs": [
    {
     "data": {
      "text/html": [
       "<div>\n",
       "<style scoped>\n",
       "    .dataframe tbody tr th:only-of-type {\n",
       "        vertical-align: middle;\n",
       "    }\n",
       "\n",
       "    .dataframe tbody tr th {\n",
       "        vertical-align: top;\n",
       "    }\n",
       "\n",
       "    .dataframe thead th {\n",
       "        text-align: right;\n",
       "    }\n",
       "</style>\n",
       "<table border=\"1\" class=\"dataframe\">\n",
       "  <thead>\n",
       "    <tr style=\"text-align: right;\">\n",
       "      <th></th>\n",
       "      <th>BI-RADS</th>\n",
       "      <th>Age</th>\n",
       "      <th>Shape</th>\n",
       "      <th>Margin</th>\n",
       "      <th>Density</th>\n",
       "      <th>Severity</th>\n",
       "    </tr>\n",
       "  </thead>\n",
       "  <tbody>\n",
       "    <tr>\n",
       "      <th>0</th>\n",
       "      <td>5.0</td>\n",
       "      <td>67.0</td>\n",
       "      <td>3.0</td>\n",
       "      <td>5.0</td>\n",
       "      <td>3.0</td>\n",
       "      <td>1</td>\n",
       "    </tr>\n",
       "    <tr>\n",
       "      <th>1</th>\n",
       "      <td>4.0</td>\n",
       "      <td>43.0</td>\n",
       "      <td>1.0</td>\n",
       "      <td>1.0</td>\n",
       "      <td>NaN</td>\n",
       "      <td>1</td>\n",
       "    </tr>\n",
       "    <tr>\n",
       "      <th>2</th>\n",
       "      <td>5.0</td>\n",
       "      <td>58.0</td>\n",
       "      <td>4.0</td>\n",
       "      <td>5.0</td>\n",
       "      <td>3.0</td>\n",
       "      <td>1</td>\n",
       "    </tr>\n",
       "    <tr>\n",
       "      <th>3</th>\n",
       "      <td>4.0</td>\n",
       "      <td>28.0</td>\n",
       "      <td>1.0</td>\n",
       "      <td>1.0</td>\n",
       "      <td>3.0</td>\n",
       "      <td>0</td>\n",
       "    </tr>\n",
       "    <tr>\n",
       "      <th>4</th>\n",
       "      <td>5.0</td>\n",
       "      <td>74.0</td>\n",
       "      <td>1.0</td>\n",
       "      <td>5.0</td>\n",
       "      <td>NaN</td>\n",
       "      <td>1</td>\n",
       "    </tr>\n",
       "    <tr>\n",
       "      <th>5</th>\n",
       "      <td>4.0</td>\n",
       "      <td>65.0</td>\n",
       "      <td>1.0</td>\n",
       "      <td>NaN</td>\n",
       "      <td>3.0</td>\n",
       "      <td>0</td>\n",
       "    </tr>\n",
       "    <tr>\n",
       "      <th>6</th>\n",
       "      <td>4.0</td>\n",
       "      <td>70.0</td>\n",
       "      <td>NaN</td>\n",
       "      <td>NaN</td>\n",
       "      <td>3.0</td>\n",
       "      <td>0</td>\n",
       "    </tr>\n",
       "    <tr>\n",
       "      <th>7</th>\n",
       "      <td>5.0</td>\n",
       "      <td>42.0</td>\n",
       "      <td>1.0</td>\n",
       "      <td>NaN</td>\n",
       "      <td>3.0</td>\n",
       "      <td>0</td>\n",
       "    </tr>\n",
       "    <tr>\n",
       "      <th>8</th>\n",
       "      <td>5.0</td>\n",
       "      <td>57.0</td>\n",
       "      <td>1.0</td>\n",
       "      <td>5.0</td>\n",
       "      <td>3.0</td>\n",
       "      <td>1</td>\n",
       "    </tr>\n",
       "    <tr>\n",
       "      <th>9</th>\n",
       "      <td>5.0</td>\n",
       "      <td>60.0</td>\n",
       "      <td>NaN</td>\n",
       "      <td>5.0</td>\n",
       "      <td>1.0</td>\n",
       "      <td>1</td>\n",
       "    </tr>\n",
       "    <tr>\n",
       "      <th>10</th>\n",
       "      <td>5.0</td>\n",
       "      <td>76.0</td>\n",
       "      <td>1.0</td>\n",
       "      <td>4.0</td>\n",
       "      <td>3.0</td>\n",
       "      <td>1</td>\n",
       "    </tr>\n",
       "    <tr>\n",
       "      <th>11</th>\n",
       "      <td>3.0</td>\n",
       "      <td>42.0</td>\n",
       "      <td>2.0</td>\n",
       "      <td>1.0</td>\n",
       "      <td>3.0</td>\n",
       "      <td>1</td>\n",
       "    </tr>\n",
       "    <tr>\n",
       "      <th>12</th>\n",
       "      <td>4.0</td>\n",
       "      <td>64.0</td>\n",
       "      <td>1.0</td>\n",
       "      <td>NaN</td>\n",
       "      <td>3.0</td>\n",
       "      <td>0</td>\n",
       "    </tr>\n",
       "    <tr>\n",
       "      <th>13</th>\n",
       "      <td>4.0</td>\n",
       "      <td>36.0</td>\n",
       "      <td>3.0</td>\n",
       "      <td>1.0</td>\n",
       "      <td>2.0</td>\n",
       "      <td>0</td>\n",
       "    </tr>\n",
       "    <tr>\n",
       "      <th>14</th>\n",
       "      <td>4.0</td>\n",
       "      <td>60.0</td>\n",
       "      <td>2.0</td>\n",
       "      <td>1.0</td>\n",
       "      <td>2.0</td>\n",
       "      <td>0</td>\n",
       "    </tr>\n",
       "  </tbody>\n",
       "</table>\n",
       "</div>"
      ],
      "text/plain": [
       "    BI-RADS   Age  Shape  Margin  Density  Severity\n",
       "0       5.0  67.0    3.0     5.0      3.0         1\n",
       "1       4.0  43.0    1.0     1.0      NaN         1\n",
       "2       5.0  58.0    4.0     5.0      3.0         1\n",
       "3       4.0  28.0    1.0     1.0      3.0         0\n",
       "4       5.0  74.0    1.0     5.0      NaN         1\n",
       "5       4.0  65.0    1.0     NaN      3.0         0\n",
       "6       4.0  70.0    NaN     NaN      3.0         0\n",
       "7       5.0  42.0    1.0     NaN      3.0         0\n",
       "8       5.0  57.0    1.0     5.0      3.0         1\n",
       "9       5.0  60.0    NaN     5.0      1.0         1\n",
       "10      5.0  76.0    1.0     4.0      3.0         1\n",
       "11      3.0  42.0    2.0     1.0      3.0         1\n",
       "12      4.0  64.0    1.0     NaN      3.0         0\n",
       "13      4.0  36.0    3.0     1.0      2.0         0\n",
       "14      4.0  60.0    2.0     1.0      2.0         0"
      ]
     },
     "execution_count": 1,
     "metadata": {},
     "output_type": "execute_result"
    }
   ],
   "source": [
    "import numpy as np\n",
    "import matplotlib.pyplot as plt\n",
    "import pandas as pd\n",
    "from sklearn import preprocessing\n",
    "from sklearn.model_selection import train_test_split\n",
    "from sklearn import tree\n",
    "\n",
    "cols_names = [\"BI-RADS\",\"Age\",\"Shape\",\"Margin\",\"Density\",\"Severity\"]\n",
    "#data_f = pd.read_csv(\"mammographic_masses.data.txt\",sep = \",\",names = cols_names)\n",
    "data_f = pd.read_csv(\"mammographic_masses.data.txt\",sep = \",\",names = cols_names, na_values = \"?\") \n",
    "# alternative to convert ? to NaN\n",
    "# right at the start when loading the data\n",
    "\n",
    "data_f.head(15)"
   ]
  },
  {
   "cell_type": "markdown",
   "metadata": {},
   "source": [
    "We want to see what is happening with the data and evaluate whether or not it needs to be cleaned."
   ]
  },
  {
   "cell_type": "code",
   "execution_count": 2,
   "metadata": {
    "scrolled": false
   },
   "outputs": [
    {
     "data": {
      "text/html": [
       "<div>\n",
       "<style scoped>\n",
       "    .dataframe tbody tr th:only-of-type {\n",
       "        vertical-align: middle;\n",
       "    }\n",
       "\n",
       "    .dataframe tbody tr th {\n",
       "        vertical-align: top;\n",
       "    }\n",
       "\n",
       "    .dataframe thead th {\n",
       "        text-align: right;\n",
       "    }\n",
       "</style>\n",
       "<table border=\"1\" class=\"dataframe\">\n",
       "  <thead>\n",
       "    <tr style=\"text-align: right;\">\n",
       "      <th></th>\n",
       "      <th>BI-RADS</th>\n",
       "      <th>Age</th>\n",
       "      <th>Shape</th>\n",
       "      <th>Margin</th>\n",
       "      <th>Density</th>\n",
       "      <th>Severity</th>\n",
       "    </tr>\n",
       "  </thead>\n",
       "  <tbody>\n",
       "    <tr>\n",
       "      <th>count</th>\n",
       "      <td>959.000000</td>\n",
       "      <td>956.000000</td>\n",
       "      <td>930.000000</td>\n",
       "      <td>913.000000</td>\n",
       "      <td>885.000000</td>\n",
       "      <td>961.000000</td>\n",
       "    </tr>\n",
       "    <tr>\n",
       "      <th>mean</th>\n",
       "      <td>4.348279</td>\n",
       "      <td>55.487448</td>\n",
       "      <td>2.721505</td>\n",
       "      <td>2.796276</td>\n",
       "      <td>2.910734</td>\n",
       "      <td>0.463059</td>\n",
       "    </tr>\n",
       "    <tr>\n",
       "      <th>std</th>\n",
       "      <td>1.783031</td>\n",
       "      <td>14.480131</td>\n",
       "      <td>1.242792</td>\n",
       "      <td>1.566546</td>\n",
       "      <td>0.380444</td>\n",
       "      <td>0.498893</td>\n",
       "    </tr>\n",
       "    <tr>\n",
       "      <th>min</th>\n",
       "      <td>0.000000</td>\n",
       "      <td>18.000000</td>\n",
       "      <td>1.000000</td>\n",
       "      <td>1.000000</td>\n",
       "      <td>1.000000</td>\n",
       "      <td>0.000000</td>\n",
       "    </tr>\n",
       "    <tr>\n",
       "      <th>25%</th>\n",
       "      <td>4.000000</td>\n",
       "      <td>45.000000</td>\n",
       "      <td>2.000000</td>\n",
       "      <td>1.000000</td>\n",
       "      <td>3.000000</td>\n",
       "      <td>0.000000</td>\n",
       "    </tr>\n",
       "    <tr>\n",
       "      <th>50%</th>\n",
       "      <td>4.000000</td>\n",
       "      <td>57.000000</td>\n",
       "      <td>3.000000</td>\n",
       "      <td>3.000000</td>\n",
       "      <td>3.000000</td>\n",
       "      <td>0.000000</td>\n",
       "    </tr>\n",
       "    <tr>\n",
       "      <th>75%</th>\n",
       "      <td>5.000000</td>\n",
       "      <td>66.000000</td>\n",
       "      <td>4.000000</td>\n",
       "      <td>4.000000</td>\n",
       "      <td>3.000000</td>\n",
       "      <td>1.000000</td>\n",
       "    </tr>\n",
       "    <tr>\n",
       "      <th>max</th>\n",
       "      <td>55.000000</td>\n",
       "      <td>96.000000</td>\n",
       "      <td>4.000000</td>\n",
       "      <td>5.000000</td>\n",
       "      <td>4.000000</td>\n",
       "      <td>1.000000</td>\n",
       "    </tr>\n",
       "  </tbody>\n",
       "</table>\n",
       "</div>"
      ],
      "text/plain": [
       "          BI-RADS         Age       Shape      Margin     Density    Severity\n",
       "count  959.000000  956.000000  930.000000  913.000000  885.000000  961.000000\n",
       "mean     4.348279   55.487448    2.721505    2.796276    2.910734    0.463059\n",
       "std      1.783031   14.480131    1.242792    1.566546    0.380444    0.498893\n",
       "min      0.000000   18.000000    1.000000    1.000000    1.000000    0.000000\n",
       "25%      4.000000   45.000000    2.000000    1.000000    3.000000    0.000000\n",
       "50%      4.000000   57.000000    3.000000    3.000000    3.000000    0.000000\n",
       "75%      5.000000   66.000000    4.000000    4.000000    3.000000    1.000000\n",
       "max     55.000000   96.000000    4.000000    5.000000    4.000000    1.000000"
      ]
     },
     "execution_count": 2,
     "metadata": {},
     "output_type": "execute_result"
    }
   ],
   "source": [
    "df = data_f\n",
    "df.describe(include  = \"all\")"
   ]
  },
  {
   "cell_type": "markdown",
   "metadata": {},
   "source": [
    "Before we can perform any further operations on the data we want to understand the data types contained in the dataframe as these will affect our ability to perform certain operations on the data."
   ]
  },
  {
   "cell_type": "code",
   "execution_count": 3,
   "metadata": {
    "scrolled": true
   },
   "outputs": [
    {
     "name": "stdout",
     "output_type": "stream",
     "text": [
      "<class 'pandas.core.frame.DataFrame'>\n",
      "RangeIndex: 961 entries, 0 to 960\n",
      "Data columns (total 6 columns):\n",
      " #   Column    Non-Null Count  Dtype  \n",
      "---  ------    --------------  -----  \n",
      " 0   BI-RADS   959 non-null    float64\n",
      " 1   Age       956 non-null    float64\n",
      " 2   Shape     930 non-null    float64\n",
      " 3   Margin    913 non-null    float64\n",
      " 4   Density   885 non-null    float64\n",
      " 5   Severity  961 non-null    int64  \n",
      "dtypes: float64(5), int64(1)\n",
      "memory usage: 45.2 KB\n"
     ]
    }
   ],
   "source": [
    "df.info()"
   ]
  },
  {
   "cell_type": "code",
   "execution_count": 6,
   "metadata": {
    "scrolled": false
   },
   "outputs": [
    {
     "data": {
      "text/html": [
       "<div>\n",
       "<style scoped>\n",
       "    .dataframe tbody tr th:only-of-type {\n",
       "        vertical-align: middle;\n",
       "    }\n",
       "\n",
       "    .dataframe tbody tr th {\n",
       "        vertical-align: top;\n",
       "    }\n",
       "\n",
       "    .dataframe thead th {\n",
       "        text-align: right;\n",
       "    }\n",
       "</style>\n",
       "<table border=\"1\" class=\"dataframe\">\n",
       "  <thead>\n",
       "    <tr style=\"text-align: right;\">\n",
       "      <th></th>\n",
       "      <th>BI-RADS</th>\n",
       "      <th>Age</th>\n",
       "      <th>Shape</th>\n",
       "      <th>Margin</th>\n",
       "      <th>Density</th>\n",
       "      <th>Severity</th>\n",
       "    </tr>\n",
       "  </thead>\n",
       "  <tbody>\n",
       "    <tr>\n",
       "      <th>0</th>\n",
       "      <td>5.0</td>\n",
       "      <td>67.0</td>\n",
       "      <td>3.0</td>\n",
       "      <td>5.0</td>\n",
       "      <td>3.0</td>\n",
       "      <td>1</td>\n",
       "    </tr>\n",
       "    <tr>\n",
       "      <th>2</th>\n",
       "      <td>5.0</td>\n",
       "      <td>58.0</td>\n",
       "      <td>4.0</td>\n",
       "      <td>5.0</td>\n",
       "      <td>3.0</td>\n",
       "      <td>1</td>\n",
       "    </tr>\n",
       "    <tr>\n",
       "      <th>3</th>\n",
       "      <td>4.0</td>\n",
       "      <td>28.0</td>\n",
       "      <td>1.0</td>\n",
       "      <td>1.0</td>\n",
       "      <td>3.0</td>\n",
       "      <td>0</td>\n",
       "    </tr>\n",
       "    <tr>\n",
       "      <th>8</th>\n",
       "      <td>5.0</td>\n",
       "      <td>57.0</td>\n",
       "      <td>1.0</td>\n",
       "      <td>5.0</td>\n",
       "      <td>3.0</td>\n",
       "      <td>1</td>\n",
       "    </tr>\n",
       "    <tr>\n",
       "      <th>10</th>\n",
       "      <td>5.0</td>\n",
       "      <td>76.0</td>\n",
       "      <td>1.0</td>\n",
       "      <td>4.0</td>\n",
       "      <td>3.0</td>\n",
       "      <td>1</td>\n",
       "    </tr>\n",
       "  </tbody>\n",
       "</table>\n",
       "</div>"
      ],
      "text/plain": [
       "    BI-RADS   Age  Shape  Margin  Density  Severity\n",
       "0       5.0  67.0    3.0     5.0      3.0         1\n",
       "2       5.0  58.0    4.0     5.0      3.0         1\n",
       "3       4.0  28.0    1.0     1.0      3.0         0\n",
       "8       5.0  57.0    1.0     5.0      3.0         1\n",
       "10      5.0  76.0    1.0     4.0      3.0         1"
      ]
     },
     "execution_count": 6,
     "metadata": {},
     "output_type": "execute_result"
    }
   ],
   "source": [
    "df_No_NA = df.dropna()\n",
    "df_No_NA.head()"
   ]
  },
  {
   "cell_type": "code",
   "execution_count": 7,
   "metadata": {},
   "outputs": [
    {
     "data": {
      "text/html": [
       "<div>\n",
       "<style scoped>\n",
       "    .dataframe tbody tr th:only-of-type {\n",
       "        vertical-align: middle;\n",
       "    }\n",
       "\n",
       "    .dataframe tbody tr th {\n",
       "        vertical-align: top;\n",
       "    }\n",
       "\n",
       "    .dataframe thead th {\n",
       "        text-align: right;\n",
       "    }\n",
       "</style>\n",
       "<table border=\"1\" class=\"dataframe\">\n",
       "  <thead>\n",
       "    <tr style=\"text-align: right;\">\n",
       "      <th></th>\n",
       "      <th>BI-RADS</th>\n",
       "      <th>Age</th>\n",
       "      <th>Shape</th>\n",
       "      <th>Margin</th>\n",
       "      <th>Density</th>\n",
       "      <th>Severity</th>\n",
       "    </tr>\n",
       "  </thead>\n",
       "  <tbody>\n",
       "    <tr>\n",
       "      <th>count</th>\n",
       "      <td>830.000000</td>\n",
       "      <td>830.000000</td>\n",
       "      <td>830.000000</td>\n",
       "      <td>830.000000</td>\n",
       "      <td>830.000000</td>\n",
       "      <td>830.000000</td>\n",
       "    </tr>\n",
       "    <tr>\n",
       "      <th>mean</th>\n",
       "      <td>4.393976</td>\n",
       "      <td>55.781928</td>\n",
       "      <td>2.781928</td>\n",
       "      <td>2.813253</td>\n",
       "      <td>2.915663</td>\n",
       "      <td>0.485542</td>\n",
       "    </tr>\n",
       "    <tr>\n",
       "      <th>std</th>\n",
       "      <td>1.888371</td>\n",
       "      <td>14.671782</td>\n",
       "      <td>1.242361</td>\n",
       "      <td>1.567175</td>\n",
       "      <td>0.350936</td>\n",
       "      <td>0.500092</td>\n",
       "    </tr>\n",
       "    <tr>\n",
       "      <th>min</th>\n",
       "      <td>0.000000</td>\n",
       "      <td>18.000000</td>\n",
       "      <td>1.000000</td>\n",
       "      <td>1.000000</td>\n",
       "      <td>1.000000</td>\n",
       "      <td>0.000000</td>\n",
       "    </tr>\n",
       "    <tr>\n",
       "      <th>25%</th>\n",
       "      <td>4.000000</td>\n",
       "      <td>46.000000</td>\n",
       "      <td>2.000000</td>\n",
       "      <td>1.000000</td>\n",
       "      <td>3.000000</td>\n",
       "      <td>0.000000</td>\n",
       "    </tr>\n",
       "    <tr>\n",
       "      <th>50%</th>\n",
       "      <td>4.000000</td>\n",
       "      <td>57.000000</td>\n",
       "      <td>3.000000</td>\n",
       "      <td>3.000000</td>\n",
       "      <td>3.000000</td>\n",
       "      <td>0.000000</td>\n",
       "    </tr>\n",
       "    <tr>\n",
       "      <th>75%</th>\n",
       "      <td>5.000000</td>\n",
       "      <td>66.000000</td>\n",
       "      <td>4.000000</td>\n",
       "      <td>4.000000</td>\n",
       "      <td>3.000000</td>\n",
       "      <td>1.000000</td>\n",
       "    </tr>\n",
       "    <tr>\n",
       "      <th>max</th>\n",
       "      <td>55.000000</td>\n",
       "      <td>96.000000</td>\n",
       "      <td>4.000000</td>\n",
       "      <td>5.000000</td>\n",
       "      <td>4.000000</td>\n",
       "      <td>1.000000</td>\n",
       "    </tr>\n",
       "  </tbody>\n",
       "</table>\n",
       "</div>"
      ],
      "text/plain": [
       "          BI-RADS         Age       Shape      Margin     Density    Severity\n",
       "count  830.000000  830.000000  830.000000  830.000000  830.000000  830.000000\n",
       "mean     4.393976   55.781928    2.781928    2.813253    2.915663    0.485542\n",
       "std      1.888371   14.671782    1.242361    1.567175    0.350936    0.500092\n",
       "min      0.000000   18.000000    1.000000    1.000000    1.000000    0.000000\n",
       "25%      4.000000   46.000000    2.000000    1.000000    3.000000    0.000000\n",
       "50%      4.000000   57.000000    3.000000    3.000000    3.000000    0.000000\n",
       "75%      5.000000   66.000000    4.000000    4.000000    3.000000    1.000000\n",
       "max     55.000000   96.000000    4.000000    5.000000    4.000000    1.000000"
      ]
     },
     "execution_count": 7,
     "metadata": {},
     "output_type": "execute_result"
    }
   ],
   "source": [
    "df_No_NA.describe(include = \"all\")"
   ]
  },
  {
   "cell_type": "markdown",
   "metadata": {},
   "source": [
    "The BI-RADS column should not be included as a feature in our data. It contains values ranging from 1 (definitely benign) to 5 (highly suggestive of maligancy) assigned by physicians during a double-review process and is not predictive."
   ]
  },
  {
   "cell_type": "code",
   "execution_count": 8,
   "metadata": {
    "scrolled": true
   },
   "outputs": [
    {
     "data": {
      "text/html": [
       "<div>\n",
       "<style scoped>\n",
       "    .dataframe tbody tr th:only-of-type {\n",
       "        vertical-align: middle;\n",
       "    }\n",
       "\n",
       "    .dataframe tbody tr th {\n",
       "        vertical-align: top;\n",
       "    }\n",
       "\n",
       "    .dataframe thead th {\n",
       "        text-align: right;\n",
       "    }\n",
       "</style>\n",
       "<table border=\"1\" class=\"dataframe\">\n",
       "  <thead>\n",
       "    <tr style=\"text-align: right;\">\n",
       "      <th></th>\n",
       "      <th>Age</th>\n",
       "      <th>Shape</th>\n",
       "      <th>Margin</th>\n",
       "      <th>Density</th>\n",
       "      <th>Severity</th>\n",
       "    </tr>\n",
       "  </thead>\n",
       "  <tbody>\n",
       "    <tr>\n",
       "      <th>0</th>\n",
       "      <td>67.0</td>\n",
       "      <td>3.0</td>\n",
       "      <td>5.0</td>\n",
       "      <td>3.0</td>\n",
       "      <td>1</td>\n",
       "    </tr>\n",
       "    <tr>\n",
       "      <th>2</th>\n",
       "      <td>58.0</td>\n",
       "      <td>4.0</td>\n",
       "      <td>5.0</td>\n",
       "      <td>3.0</td>\n",
       "      <td>1</td>\n",
       "    </tr>\n",
       "    <tr>\n",
       "      <th>3</th>\n",
       "      <td>28.0</td>\n",
       "      <td>1.0</td>\n",
       "      <td>1.0</td>\n",
       "      <td>3.0</td>\n",
       "      <td>0</td>\n",
       "    </tr>\n",
       "    <tr>\n",
       "      <th>8</th>\n",
       "      <td>57.0</td>\n",
       "      <td>1.0</td>\n",
       "      <td>5.0</td>\n",
       "      <td>3.0</td>\n",
       "      <td>1</td>\n",
       "    </tr>\n",
       "    <tr>\n",
       "      <th>10</th>\n",
       "      <td>76.0</td>\n",
       "      <td>1.0</td>\n",
       "      <td>4.0</td>\n",
       "      <td>3.0</td>\n",
       "      <td>1</td>\n",
       "    </tr>\n",
       "  </tbody>\n",
       "</table>\n",
       "</div>"
      ],
      "text/plain": [
       "     Age  Shape  Margin  Density  Severity\n",
       "0   67.0    3.0     5.0      3.0         1\n",
       "2   58.0    4.0     5.0      3.0         1\n",
       "3   28.0    1.0     1.0      3.0         0\n",
       "8   57.0    1.0     5.0      3.0         1\n",
       "10  76.0    1.0     4.0      3.0         1"
      ]
     },
     "execution_count": 8,
     "metadata": {},
     "output_type": "execute_result"
    }
   ],
   "source": [
    "df_No_Birads = df_No_NA.drop([\"BI-RADS\"], axis=1)\n",
    "df_No_Birads.head()"
   ]
  },
  {
   "cell_type": "markdown",
   "metadata": {
    "collapsed": true
   },
   "source": [
    "We then convert the Pandas dataframes into numpy arrays that can be used by scikit_learn. We create an array containting the features we want to work with (age, shape, margin, and density) and another array that contains the class labels (severity). "
   ]
  },
  {
   "cell_type": "code",
   "execution_count": 9,
   "metadata": {
    "scrolled": true
   },
   "outputs": [
    {
     "name": "stdout",
     "output_type": "stream",
     "text": [
      "data dimensions =  (830, 5)\n",
      "x_features dimensions =  (830, 4)\n",
      "y_labels dimensions =  (830, 1)\n"
     ]
    }
   ],
   "source": [
    "data = df_No_Birads.to_numpy()\n",
    "x_features = data[:,0:4]\n",
    "y_labels = data[:,4]\n",
    "y_labels.shape = (y_labels.shape[0],1)\n",
    "#Check that the dimensions are as expected\n",
    "print(\"data dimensions = \",data.shape)\n",
    "print(\"x_features dimensions = \",x_features.shape)\n",
    "print(\"y_labels dimensions = \",y_labels.shape)"
   ]
  },
  {
   "cell_type": "code",
   "execution_count": 10,
   "metadata": {},
   "outputs": [
    {
     "name": "stdout",
     "output_type": "stream",
     "text": [
      "data sample: [[67.  3.  5.  3.  1.]\n",
      " [58.  4.  5.  3.  1.]\n",
      " [28.  1.  1.  3.  0.]\n",
      " [57.  1.  5.  3.  1.]]\n",
      "x_features sample: [[67.  3.  5.  3.]\n",
      " [58.  4.  5.  3.]\n",
      " [28.  1.  1.  3.]\n",
      " [57.  1.  5.  3.]]\n",
      "y_labels sample: [[1.]\n",
      " [1.]\n",
      " [0.]\n",
      " [1.]]\n"
     ]
    }
   ],
   "source": [
    "#Just for debugging purposes\n",
    "print(\"data sample:\",data[0:4,])\n",
    "print(\"x_features sample:\",x_features[0:4,])\n",
    "print(\"y_labels sample:\", y_labels[0:4])"
   ]
  },
  {
   "cell_type": "markdown",
   "metadata": {},
   "source": [
    "Some of our models require the input data to be normalized,so we normalise the data."
   ]
  },
  {
   "cell_type": "code",
   "execution_count": 11,
   "metadata": {},
   "outputs": [
    {
     "data": {
      "text/plain": [
       "(830, 4)"
      ]
     },
     "execution_count": 11,
     "metadata": {},
     "output_type": "execute_result"
    }
   ],
   "source": [
    "x_scaled = preprocessing.StandardScaler().fit_transform(x_features)\n",
    "x_scaled.shape"
   ]
  },
  {
   "cell_type": "code",
   "execution_count": 12,
   "metadata": {},
   "outputs": [],
   "source": [
    "X = x_scaled\n",
    "y = y_labels\n",
    "\n",
    "X_train,X_test,y_train,y_test = train_test_split(X,y,test_size = 0.25)"
   ]
  },
  {
   "cell_type": "markdown",
   "metadata": {},
   "source": [
    "## Decision Trees\n"
   ]
  },
  {
   "cell_type": "markdown",
   "metadata": {},
   "source": [
    "We leave out the decision tree for now as the externals package is returning errors for StringIO due to deprecated packages not supported by the latest version of my sci-kit learn. We'll come back to this later after resolving the issue."
   ]
  },
  {
   "cell_type": "code",
   "execution_count": 13,
   "metadata": {},
   "outputs": [],
   "source": [
    "#tree_clf = tree.DecisionTreeClassifier().fit(X_train,y_train)"
   ]
  },
  {
   "cell_type": "markdown",
   "metadata": {},
   "source": [
    "Display the resulting decision tree."
   ]
  },
  {
   "cell_type": "code",
   "execution_count": 14,
   "metadata": {},
   "outputs": [
    {
     "data": {
      "text/plain": [
       "'\\nfrom IPython.display import Image  \\nfrom sklearn.externals.six import StringIO  \\nimport pydotplus\\n'"
      ]
     },
     "execution_count": 14,
     "metadata": {},
     "output_type": "execute_result"
    }
   ],
   "source": [
    "\"\"\"\n",
    "from IPython.display import Image  \n",
    "from sklearn.externals.six import StringIO  \n",
    "import pydotplus\n",
    "\"\"\"\n"
   ]
  },
  {
   "cell_type": "code",
   "execution_count": null,
   "metadata": {},
   "outputs": [],
   "source": []
  },
  {
   "cell_type": "code",
   "execution_count": null,
   "metadata": {},
   "outputs": [],
   "source": []
  },
  {
   "cell_type": "markdown",
   "metadata": {},
   "source": [
    "RandomForestClassifier "
   ]
  },
  {
   "cell_type": "code",
   "execution_count": 15,
   "metadata": {
    "scrolled": true
   },
   "outputs": [
    {
     "name": "stdout",
     "output_type": "stream",
     "text": [
      "Random forest test accuracy: 0.7307692307692307\n"
     ]
    }
   ],
   "source": [
    "from sklearn.ensemble import RandomForestClassifier\n",
    "from sklearn.metrics import accuracy_score\n",
    "\n",
    "rdf = RandomForestClassifier(n_estimators = 10).fit(X_train,y_train.ravel())\n",
    "\n",
    "prediction = rdf.predict(X_test)\n",
    "\n",
    "#print(prediction.size)\n",
    "#print(\"prediction:\",prediction)\n",
    "acc = accuracy_score(y_test,prediction)\n",
    "print(\"Random forest test accuracy:\",acc)"
   ]
  },
  {
   "cell_type": "code",
   "execution_count": null,
   "metadata": {},
   "outputs": [],
   "source": []
  },
  {
   "cell_type": "markdown",
   "metadata": {},
   "source": [
    "## SVM\n",
    "\n"
   ]
  },
  {
   "cell_type": "code",
   "execution_count": 16,
   "metadata": {},
   "outputs": [
    {
     "name": "stdout",
     "output_type": "stream",
     "text": [
      "The best accuracy score is: 0.7932692307692307\n"
     ]
    }
   ],
   "source": [
    "from sklearn import svm\n",
    "kernels = ['rbf','linear','poly','sigmoid']\n",
    "acc_scores = []\n",
    "\n",
    "for index,kern in enumerate(kernels):\n",
    "    clf = svm.SVC(kernel = kern).fit(X_train,y_train.ravel())\n",
    "    svm_pred = clf.predict(X_test)\n",
    "    svm_score = accuracy_score(y_test,svm_pred)\n",
    "    acc_scores.append(svm_score)\n",
    "    #print(\"SVM test accuracy for \" + kern + \" kernel: \"+ str(svm_score))\n",
    "print(\"The best accuracy score is: \" + str(np.amax(acc_scores)))# +\" from the \"+str(kernels[index])+\" kernel\")"
   ]
  },
  {
   "cell_type": "code",
   "execution_count": null,
   "metadata": {
    "scrolled": true
   },
   "outputs": [],
   "source": []
  },
  {
   "cell_type": "markdown",
   "metadata": {},
   "source": [
    "## KNN\n"
   ]
  },
  {
   "cell_type": "markdown",
   "metadata": {},
   "source": [
    "Choosing K is tricky, so we can't discard KNN until we've tried different values of K. Write a for loop to run KNN with K values ranging from 1 to 50 and see if K makes a substantial difference. Make a note of the best performance you could get out of KNN."
   ]
  },
  {
   "cell_type": "code",
   "execution_count": 17,
   "metadata": {},
   "outputs": [
    {
     "name": "stdout",
     "output_type": "stream",
     "text": [
      "The highest score is: 0.7788461538461539\n"
     ]
    }
   ],
   "source": [
    "from sklearn.neighbors import KNeighborsClassifier\n",
    "knn_scores = []\n",
    "for k in range(1,12):\n",
    "    neighbor = KNeighborsClassifier(n_neighbors= k).fit(X_train,y_train.ravel())\n",
    "    knn_pred = neighbor.predict(X_test)\n",
    "    knn_score = accuracy_score(y_test,knn_pred)\n",
    "    knn_scores.append(knn_score)\n",
    "    #print(\"kNN test accuracy score for k =\" + str(k) + \" is \" + str(knn_score))\n",
    "print(\"The highest score is:\",np.amax(knn_scores))"
   ]
  },
  {
   "cell_type": "markdown",
   "metadata": {},
   "source": [
    "## Naive Bayes\n",
    "\n"
   ]
  },
  {
   "cell_type": "code",
   "execution_count": 18,
   "metadata": {},
   "outputs": [
    {
     "name": "stdout",
     "output_type": "stream",
     "text": [
      "Gaussian Naive Bayes test accuracy score:  0.7788461538461539\n"
     ]
    }
   ],
   "source": [
    "from sklearn.naive_bayes import GaussianNB\n",
    "gauss = GaussianNB()\n",
    "nb_pred = gauss.fit(X_train,y_train.ravel()).predict(X_test)\n",
    "print(\"Gaussian Naive Bayes test accuracy score: \",accuracy_score(y_test,nb_pred)) "
   ]
  },
  {
   "cell_type": "markdown",
   "metadata": {},
   "source": [
    "## Logistic Regression\n",
    "\n"
   ]
  },
  {
   "cell_type": "code",
   "execution_count": 19,
   "metadata": {},
   "outputs": [
    {
     "name": "stdout",
     "output_type": "stream",
     "text": [
      "Logistic regression test accuracy score: 0.7836538461538461\n"
     ]
    }
   ],
   "source": [
    "from sklearn.linear_model import LogisticRegression\n",
    "lgt_pred = LogisticRegression().fit(X_train,y_train.ravel()).predict(X_test)\n",
    "print(\"Logistic regression test accuracy score:\", accuracy_score(y_test,lgt_pred))"
   ]
  },
  {
   "cell_type": "markdown",
   "metadata": {},
   "source": [
    "## Neural Networks\n",
    "\n",
    "Multi-layer Perceptron using Keras."
   ]
  },
  {
   "cell_type": "code",
   "execution_count": 29,
   "metadata": {},
   "outputs": [],
   "source": [
    "from tensorflow import keras\n",
    "from tensorflow.keras.models import Sequential\n",
    "from tensorflow.keras.layers import Dense, Dropout\n",
    "from tensorflow.keras.optimizers import RMSprop,Adam,SGD"
   ]
  },
  {
   "cell_type": "code",
   "execution_count": 21,
   "metadata": {},
   "outputs": [],
   "source": [
    "#Hyperparameters\n",
    "no_of_units = 10\n",
    "no_of_units_final = 4\n",
    "no_of_out_units = 1\n",
    "activation_funct = 'relu'\n",
    "output_funct = 'sigmoid'\n",
    "no_of_features = X_train.shape[1]"
   ]
  },
  {
   "cell_type": "code",
   "execution_count": 22,
   "metadata": {},
   "outputs": [
    {
     "name": "stdout",
     "output_type": "stream",
     "text": [
      "WARNING:tensorflow:From C:\\ProgramData\\Anaconda3\\lib\\site-packages\\tensorflow\\python\\ops\\init_ops.py:1251: calling VarianceScaling.__init__ (from tensorflow.python.ops.init_ops) with dtype is deprecated and will be removed in a future version.\n",
      "Instructions for updating:\n",
      "Call initializer instance with the dtype argument instead of passing it to the constructor\n"
     ]
    }
   ],
   "source": [
    "#Build network layers\n",
    "model = Sequential()\n",
    "model.add(Dense(no_of_units, activation = activation_funct, input_shape = (no_of_features,)))\n",
    "model.add(Dense(no_of_units, activation = activation_funct))\n",
    "model.add(Dense(no_of_units_final, activation = activation_funct))\n",
    "model.add(Dense(no_of_out_units, activation = output_funct))"
   ]
  },
  {
   "cell_type": "code",
   "execution_count": 23,
   "metadata": {},
   "outputs": [
    {
     "name": "stdout",
     "output_type": "stream",
     "text": [
      "Model: \"sequential\"\n",
      "_________________________________________________________________\n",
      "Layer (type)                 Output Shape              Param #   \n",
      "=================================================================\n",
      "dense (Dense)                (None, 10)                50        \n",
      "_________________________________________________________________\n",
      "dense_1 (Dense)              (None, 10)                110       \n",
      "_________________________________________________________________\n",
      "dense_2 (Dense)              (None, 4)                 44        \n",
      "_________________________________________________________________\n",
      "dense_3 (Dense)              (None, 1)                 5         \n",
      "=================================================================\n",
      "Total params: 209\n",
      "Trainable params: 209\n",
      "Non-trainable params: 0\n",
      "_________________________________________________________________\n"
     ]
    }
   ],
   "source": [
    "#Model summary\n",
    "model.summary()\n"
   ]
  },
  {
   "cell_type": "code",
   "execution_count": 24,
   "metadata": {},
   "outputs": [
    {
     "name": "stdout",
     "output_type": "stream",
     "text": [
      "WARNING:tensorflow:From C:\\ProgramData\\Anaconda3\\lib\\site-packages\\tensorflow\\python\\ops\\nn_impl.py:180: add_dispatch_support.<locals>.wrapper (from tensorflow.python.ops.array_ops) is deprecated and will be removed in a future version.\n",
      "Instructions for updating:\n",
      "Use tf.where in 2.0, which has the same broadcast rule as np.where\n"
     ]
    }
   ],
   "source": [
    "#Setup loss function and optimiser\n",
    "model.compile(loss = 'binary_crossentropy',\n",
    "             optimizer = 'Adam',\n",
    "             metrics = ['accuracy'])"
   ]
  },
  {
   "cell_type": "code",
   "execution_count": 25,
   "metadata": {
    "scrolled": false
   },
   "outputs": [
    {
     "name": "stdout",
     "output_type": "stream",
     "text": [
      "Train on 622 samples, validate on 208 samples\n",
      "Epoch 1/100\n",
      "622/622 - 0s - loss: 0.6486 - acc: 0.5884 - val_loss: 0.6414 - val_acc: 0.6010\n",
      "Epoch 2/100\n",
      "622/622 - 0s - loss: 0.6376 - acc: 0.6190 - val_loss: 0.6332 - val_acc: 0.6538\n",
      "Epoch 3/100\n",
      "622/622 - 0s - loss: 0.6289 - acc: 0.6977 - val_loss: 0.6254 - val_acc: 0.7212\n",
      "Epoch 4/100\n",
      "622/622 - 0s - loss: 0.6202 - acc: 0.7267 - val_loss: 0.6170 - val_acc: 0.7308\n",
      "Epoch 5/100\n",
      "622/622 - 0s - loss: 0.6115 - acc: 0.7460 - val_loss: 0.6084 - val_acc: 0.7356\n",
      "Epoch 6/100\n",
      "622/622 - 0s - loss: 0.6022 - acc: 0.7492 - val_loss: 0.5992 - val_acc: 0.7404\n",
      "Epoch 7/100\n",
      "622/622 - 0s - loss: 0.5922 - acc: 0.7556 - val_loss: 0.5893 - val_acc: 0.7404\n",
      "Epoch 8/100\n",
      "622/622 - 0s - loss: 0.5812 - acc: 0.7733 - val_loss: 0.5793 - val_acc: 0.7500\n",
      "Epoch 9/100\n",
      "622/622 - 0s - loss: 0.5695 - acc: 0.7846 - val_loss: 0.5684 - val_acc: 0.7692\n",
      "Epoch 10/100\n",
      "622/622 - 0s - loss: 0.5573 - acc: 0.7894 - val_loss: 0.5575 - val_acc: 0.7596\n",
      "Epoch 11/100\n",
      "622/622 - 0s - loss: 0.5450 - acc: 0.7910 - val_loss: 0.5473 - val_acc: 0.7596\n",
      "Epoch 12/100\n",
      "622/622 - 0s - loss: 0.5326 - acc: 0.7942 - val_loss: 0.5384 - val_acc: 0.7644\n",
      "Epoch 13/100\n",
      "622/622 - 0s - loss: 0.5215 - acc: 0.7926 - val_loss: 0.5301 - val_acc: 0.7644\n",
      "Epoch 14/100\n",
      "622/622 - 0s - loss: 0.5113 - acc: 0.7910 - val_loss: 0.5233 - val_acc: 0.7596\n",
      "Epoch 15/100\n",
      "622/622 - 0s - loss: 0.5026 - acc: 0.7942 - val_loss: 0.5171 - val_acc: 0.7740\n",
      "Epoch 16/100\n",
      "622/622 - 0s - loss: 0.4938 - acc: 0.7990 - val_loss: 0.5116 - val_acc: 0.7788\n",
      "Epoch 17/100\n",
      "622/622 - 0s - loss: 0.4869 - acc: 0.8039 - val_loss: 0.5074 - val_acc: 0.7837\n",
      "Epoch 18/100\n",
      "622/622 - 0s - loss: 0.4802 - acc: 0.8055 - val_loss: 0.5040 - val_acc: 0.7885\n",
      "Epoch 19/100\n",
      "622/622 - 0s - loss: 0.4748 - acc: 0.8055 - val_loss: 0.5011 - val_acc: 0.7933\n",
      "Epoch 20/100\n",
      "622/622 - 0s - loss: 0.4705 - acc: 0.8071 - val_loss: 0.4988 - val_acc: 0.8029\n",
      "Epoch 21/100\n",
      "622/622 - 0s - loss: 0.4663 - acc: 0.8119 - val_loss: 0.4967 - val_acc: 0.8029\n",
      "Epoch 22/100\n",
      "622/622 - 0s - loss: 0.4629 - acc: 0.8103 - val_loss: 0.4953 - val_acc: 0.8029\n",
      "Epoch 23/100\n",
      "622/622 - 0s - loss: 0.4600 - acc: 0.8103 - val_loss: 0.4943 - val_acc: 0.8029\n",
      "Epoch 24/100\n",
      "622/622 - 0s - loss: 0.4574 - acc: 0.8087 - val_loss: 0.4934 - val_acc: 0.8029\n",
      "Epoch 25/100\n",
      "622/622 - 0s - loss: 0.4550 - acc: 0.8087 - val_loss: 0.4921 - val_acc: 0.8029\n",
      "Epoch 26/100\n",
      "622/622 - 0s - loss: 0.4530 - acc: 0.8119 - val_loss: 0.4911 - val_acc: 0.8029\n",
      "Epoch 27/100\n",
      "622/622 - 0s - loss: 0.4511 - acc: 0.8135 - val_loss: 0.4905 - val_acc: 0.8029\n",
      "Epoch 28/100\n",
      "622/622 - 0s - loss: 0.4495 - acc: 0.8135 - val_loss: 0.4891 - val_acc: 0.8029\n",
      "Epoch 29/100\n",
      "622/622 - 0s - loss: 0.4476 - acc: 0.8167 - val_loss: 0.4879 - val_acc: 0.8077\n",
      "Epoch 30/100\n",
      "622/622 - 0s - loss: 0.4464 - acc: 0.8183 - val_loss: 0.4875 - val_acc: 0.8077\n",
      "Epoch 31/100\n",
      "622/622 - 0s - loss: 0.4450 - acc: 0.8183 - val_loss: 0.4870 - val_acc: 0.8029\n",
      "Epoch 32/100\n",
      "622/622 - 0s - loss: 0.4437 - acc: 0.8199 - val_loss: 0.4855 - val_acc: 0.8029\n",
      "Epoch 33/100\n",
      "622/622 - 0s - loss: 0.4425 - acc: 0.8215 - val_loss: 0.4850 - val_acc: 0.8029\n",
      "Epoch 34/100\n",
      "622/622 - 0s - loss: 0.4416 - acc: 0.8232 - val_loss: 0.4846 - val_acc: 0.8029\n",
      "Epoch 35/100\n",
      "622/622 - 0s - loss: 0.4406 - acc: 0.8232 - val_loss: 0.4842 - val_acc: 0.7981\n",
      "Epoch 36/100\n",
      "622/622 - 0s - loss: 0.4398 - acc: 0.8232 - val_loss: 0.4841 - val_acc: 0.7981\n",
      "Epoch 37/100\n",
      "622/622 - 0s - loss: 0.4390 - acc: 0.8215 - val_loss: 0.4838 - val_acc: 0.8029\n",
      "Epoch 38/100\n",
      "622/622 - 0s - loss: 0.4380 - acc: 0.8248 - val_loss: 0.4838 - val_acc: 0.7981\n",
      "Epoch 39/100\n",
      "622/622 - 0s - loss: 0.4373 - acc: 0.8248 - val_loss: 0.4840 - val_acc: 0.7981\n",
      "Epoch 40/100\n",
      "622/622 - 0s - loss: 0.4369 - acc: 0.8248 - val_loss: 0.4843 - val_acc: 0.8077\n",
      "Epoch 41/100\n",
      "622/622 - 0s - loss: 0.4361 - acc: 0.8264 - val_loss: 0.4841 - val_acc: 0.8077\n",
      "Epoch 42/100\n",
      "622/622 - 0s - loss: 0.4358 - acc: 0.8264 - val_loss: 0.4835 - val_acc: 0.8077\n",
      "Epoch 43/100\n",
      "622/622 - 0s - loss: 0.4347 - acc: 0.8248 - val_loss: 0.4837 - val_acc: 0.8029\n",
      "Epoch 44/100\n",
      "622/622 - 0s - loss: 0.4341 - acc: 0.8248 - val_loss: 0.4834 - val_acc: 0.8029\n",
      "Epoch 45/100\n",
      "622/622 - 0s - loss: 0.4339 - acc: 0.8264 - val_loss: 0.4831 - val_acc: 0.8077\n",
      "Epoch 46/100\n",
      "622/622 - 0s - loss: 0.4329 - acc: 0.8248 - val_loss: 0.4835 - val_acc: 0.8077\n",
      "Epoch 47/100\n",
      "622/622 - 0s - loss: 0.4324 - acc: 0.8248 - val_loss: 0.4835 - val_acc: 0.8077\n",
      "Epoch 48/100\n",
      "622/622 - 0s - loss: 0.4319 - acc: 0.8264 - val_loss: 0.4829 - val_acc: 0.8077\n",
      "Epoch 49/100\n",
      "622/622 - 0s - loss: 0.4313 - acc: 0.8232 - val_loss: 0.4831 - val_acc: 0.8077\n",
      "Epoch 50/100\n",
      "622/622 - 0s - loss: 0.4310 - acc: 0.8232 - val_loss: 0.4831 - val_acc: 0.8077\n",
      "Epoch 51/100\n",
      "622/622 - 0s - loss: 0.4307 - acc: 0.8280 - val_loss: 0.4830 - val_acc: 0.8077\n",
      "Epoch 52/100\n",
      "622/622 - 0s - loss: 0.4299 - acc: 0.8280 - val_loss: 0.4828 - val_acc: 0.8077\n",
      "Epoch 53/100\n",
      "622/622 - 0s - loss: 0.4294 - acc: 0.8264 - val_loss: 0.4829 - val_acc: 0.8029\n",
      "Epoch 54/100\n",
      "622/622 - 0s - loss: 0.4291 - acc: 0.8248 - val_loss: 0.4831 - val_acc: 0.8029\n",
      "Epoch 55/100\n",
      "622/622 - 0s - loss: 0.4288 - acc: 0.8215 - val_loss: 0.4831 - val_acc: 0.7981\n",
      "Epoch 56/100\n",
      "622/622 - 0s - loss: 0.4285 - acc: 0.8248 - val_loss: 0.4831 - val_acc: 0.8029\n",
      "Epoch 57/100\n",
      "622/622 - 0s - loss: 0.4280 - acc: 0.8264 - val_loss: 0.4836 - val_acc: 0.7981\n",
      "Epoch 58/100\n",
      "622/622 - 0s - loss: 0.4280 - acc: 0.8248 - val_loss: 0.4845 - val_acc: 0.7981\n",
      "Epoch 59/100\n",
      "622/622 - 0s - loss: 0.4274 - acc: 0.8264 - val_loss: 0.4846 - val_acc: 0.8029\n",
      "Epoch 60/100\n",
      "622/622 - 0s - loss: 0.4269 - acc: 0.8264 - val_loss: 0.4847 - val_acc: 0.8029\n",
      "Epoch 61/100\n",
      "622/622 - 0s - loss: 0.4264 - acc: 0.8264 - val_loss: 0.4847 - val_acc: 0.8029\n",
      "Epoch 62/100\n",
      "622/622 - 0s - loss: 0.4262 - acc: 0.8280 - val_loss: 0.4847 - val_acc: 0.8029\n",
      "Epoch 63/100\n",
      "622/622 - 0s - loss: 0.4262 - acc: 0.8280 - val_loss: 0.4850 - val_acc: 0.8029\n",
      "Epoch 64/100\n",
      "622/622 - 0s - loss: 0.4258 - acc: 0.8280 - val_loss: 0.4855 - val_acc: 0.8029\n",
      "Epoch 65/100\n",
      "622/622 - 0s - loss: 0.4253 - acc: 0.8264 - val_loss: 0.4854 - val_acc: 0.8029\n",
      "Epoch 66/100\n",
      "622/622 - 0s - loss: 0.4251 - acc: 0.8280 - val_loss: 0.4852 - val_acc: 0.8029\n",
      "Epoch 67/100\n",
      "622/622 - 0s - loss: 0.4248 - acc: 0.8312 - val_loss: 0.4850 - val_acc: 0.8029\n",
      "Epoch 68/100\n",
      "622/622 - 0s - loss: 0.4245 - acc: 0.8312 - val_loss: 0.4846 - val_acc: 0.8029\n",
      "Epoch 69/100\n",
      "622/622 - 0s - loss: 0.4241 - acc: 0.8280 - val_loss: 0.4850 - val_acc: 0.8029\n",
      "Epoch 70/100\n",
      "622/622 - 0s - loss: 0.4239 - acc: 0.8280 - val_loss: 0.4849 - val_acc: 0.8029\n",
      "Epoch 71/100\n",
      "622/622 - 0s - loss: 0.4236 - acc: 0.8296 - val_loss: 0.4854 - val_acc: 0.8029\n",
      "Epoch 72/100\n",
      "622/622 - 0s - loss: 0.4231 - acc: 0.8296 - val_loss: 0.4852 - val_acc: 0.8029\n",
      "Epoch 73/100\n",
      "622/622 - 0s - loss: 0.4229 - acc: 0.8296 - val_loss: 0.4849 - val_acc: 0.8029\n",
      "Epoch 74/100\n",
      "622/622 - 0s - loss: 0.4229 - acc: 0.8296 - val_loss: 0.4845 - val_acc: 0.8029\n",
      "Epoch 75/100\n",
      "622/622 - 0s - loss: 0.4223 - acc: 0.8296 - val_loss: 0.4843 - val_acc: 0.8029\n",
      "Epoch 76/100\n",
      "622/622 - 0s - loss: 0.4224 - acc: 0.8264 - val_loss: 0.4844 - val_acc: 0.8029\n",
      "Epoch 77/100\n",
      "622/622 - 0s - loss: 0.4219 - acc: 0.8280 - val_loss: 0.4844 - val_acc: 0.8029\n",
      "Epoch 78/100\n",
      "622/622 - 0s - loss: 0.4218 - acc: 0.8296 - val_loss: 0.4852 - val_acc: 0.8029\n",
      "Epoch 79/100\n",
      "622/622 - 0s - loss: 0.4212 - acc: 0.8296 - val_loss: 0.4850 - val_acc: 0.8029\n",
      "Epoch 80/100\n",
      "622/622 - 0s - loss: 0.4210 - acc: 0.8280 - val_loss: 0.4847 - val_acc: 0.8029\n",
      "Epoch 81/100\n",
      "622/622 - 0s - loss: 0.4209 - acc: 0.8296 - val_loss: 0.4843 - val_acc: 0.8029\n",
      "Epoch 82/100\n",
      "622/622 - 0s - loss: 0.4206 - acc: 0.8280 - val_loss: 0.4844 - val_acc: 0.8029\n",
      "Epoch 83/100\n",
      "622/622 - 0s - loss: 0.4200 - acc: 0.8296 - val_loss: 0.4845 - val_acc: 0.8029\n",
      "Epoch 84/100\n",
      "622/622 - 0s - loss: 0.4200 - acc: 0.8296 - val_loss: 0.4851 - val_acc: 0.8029\n",
      "Epoch 85/100\n",
      "622/622 - 0s - loss: 0.4199 - acc: 0.8328 - val_loss: 0.4857 - val_acc: 0.8029\n",
      "Epoch 86/100\n",
      "622/622 - 0s - loss: 0.4198 - acc: 0.8344 - val_loss: 0.4852 - val_acc: 0.8029\n",
      "Epoch 87/100\n",
      "622/622 - 0s - loss: 0.4189 - acc: 0.8312 - val_loss: 0.4839 - val_acc: 0.8029\n",
      "Epoch 88/100\n",
      "622/622 - 0s - loss: 0.4192 - acc: 0.8296 - val_loss: 0.4843 - val_acc: 0.8029\n",
      "Epoch 89/100\n",
      "622/622 - 0s - loss: 0.4194 - acc: 0.8296 - val_loss: 0.4845 - val_acc: 0.8029\n"
     ]
    },
    {
     "name": "stdout",
     "output_type": "stream",
     "text": [
      "Epoch 90/100\n",
      "622/622 - 0s - loss: 0.4191 - acc: 0.8296 - val_loss: 0.4845 - val_acc: 0.8029\n",
      "Epoch 91/100\n",
      "622/622 - 0s - loss: 0.4183 - acc: 0.8296 - val_loss: 0.4845 - val_acc: 0.8029\n",
      "Epoch 92/100\n",
      "622/622 - 0s - loss: 0.4181 - acc: 0.8296 - val_loss: 0.4847 - val_acc: 0.8029\n",
      "Epoch 93/100\n",
      "622/622 - 0s - loss: 0.4183 - acc: 0.8312 - val_loss: 0.4852 - val_acc: 0.8029\n",
      "Epoch 94/100\n",
      "622/622 - 0s - loss: 0.4180 - acc: 0.8312 - val_loss: 0.4851 - val_acc: 0.8029\n",
      "Epoch 95/100\n",
      "622/622 - 0s - loss: 0.4177 - acc: 0.8312 - val_loss: 0.4853 - val_acc: 0.8077\n",
      "Epoch 96/100\n",
      "622/622 - 0s - loss: 0.4170 - acc: 0.8296 - val_loss: 0.4854 - val_acc: 0.8077\n",
      "Epoch 97/100\n",
      "622/622 - 0s - loss: 0.4172 - acc: 0.8328 - val_loss: 0.4865 - val_acc: 0.8029\n",
      "Epoch 98/100\n",
      "622/622 - 0s - loss: 0.4167 - acc: 0.8328 - val_loss: 0.4865 - val_acc: 0.8077\n",
      "Epoch 99/100\n",
      "622/622 - 0s - loss: 0.4163 - acc: 0.8312 - val_loss: 0.4862 - val_acc: 0.8077\n",
      "Epoch 100/100\n",
      "622/622 - 0s - loss: 0.4161 - acc: 0.8312 - val_loss: 0.4868 - val_acc: 0.8077\n"
     ]
    }
   ],
   "source": [
    "#Train model\n",
    "history = model.fit(X_train, y_train,\n",
    "                   batch_size = 100,\n",
    "                   epochs = 100,\n",
    "                   verbose = 2,\n",
    "                   validation_data = (X_test,y_test))"
   ]
  },
  {
   "cell_type": "code",
   "execution_count": 26,
   "metadata": {},
   "outputs": [
    {
     "name": "stdout",
     "output_type": "stream",
     "text": [
      "Test loss: 0.48676761526327866\n",
      "Test accuracy: 0.8076923\n"
     ]
    }
   ],
   "source": [
    "#Model results\n",
    "score = model.evaluate(X_test, y_test, verbose=0)\n",
    "print('Test loss:', score[0])\n",
    "print('Test accuracy:', score[1])\n"
   ]
  },
  {
   "cell_type": "code",
   "execution_count": 27,
   "metadata": {},
   "outputs": [
    {
     "name": "stdout",
     "output_type": "stream",
     "text": [
      "dict_keys(['loss', 'acc', 'val_loss', 'val_acc'])\n"
     ]
    }
   ],
   "source": [
    "print(history.history.keys())"
   ]
  },
  {
   "cell_type": "code",
   "execution_count": 28,
   "metadata": {},
   "outputs": [
    {
     "data": {
      "image/png": "[encoded data removed]",
      "text/plain": [
       "<Figure size 432x288 with 1 Axes>"
      ]
     },
     "metadata": {
      "needs_background": "light"
     },
     "output_type": "display_data"
    },
    {
     "data": {
      "image/png": "[encoded data removed]",
      "text/plain": [
       "<Figure size 432x288 with 1 Axes>"
      ]
     },
     "metadata": {
      "needs_background": "light"
     },
     "output_type": "display_data"
    }
   ],
   "source": [
    "plt.plot(history.history['acc'])\n",
    "plt.plot(history.history['val_acc'])\n",
    "plt.title(\"model accuracy\")\n",
    "plt.xlabel(\"epoch\")\n",
    "plt.ylabel(\"accuracy\")\n",
    "plt.legend(['train','test'])\n",
    "plt.show()\n",
    "\n",
    "plt.plot(history.history['loss'])\n",
    "plt.plot(history.history['val_loss'])\n",
    "plt.title(\"model loss\")\n",
    "plt.xlabel(\"epoch\")\n",
    "plt.ylabel(\"loss\")\n",
    "plt.legend(['train','test'])\n",
    "plt.show()"
   ]
  },
  {
   "cell_type": "code",
   "execution_count": null,
   "metadata": {},
   "outputs": [],
   "source": []
  }
 ],
 "metadata": {
  "kernelspec": {
   "display_name": "Python 3",
   "language": "python",
   "name": "python3"
  },
  "language_info": {
   "codemirror_mode": {
    "name": "ipython",
    "version": 3
   },
   "file_extension": ".py",
   "mimetype": "text/x-python",
   "name": "python",
   "nbconvert_exporter": "python",
   "pygments_lexer": "ipython3",
   "version": "3.7.7"
  }
 },
 "nbformat": 4,
 "nbformat_minor": 2
}
